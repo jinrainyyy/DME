{
 "cells": [
  {
   "cell_type": "code",
   "execution_count": 1,
   "metadata": {},
   "outputs": [],
   "source": [
    "from __future__ import division, print_function\n",
    "import os\n",
    "import numpy as np \n",
    "import pandas as pd\n",
    "from pandas import Series\n",
    "import matplotlib.pyplot as plt\n",
    "import seaborn as sns\n",
    "from collections import Counter\n",
    "from collections import defaultdict\n",
    "import random\n",
    "from sklearn.linear_model import LogisticRegression\n",
    "from sklearn.model_selection import train_test_split,GridSearchCV,cross_val_score,cross_validate\n",
    "random_state = 10"
   ]
  },
  {
   "cell_type": "code",
   "execution_count": 2,
   "metadata": {},
   "outputs": [],
   "source": [
    "train_path = os.path.join(os.getcwd(), 'project','dataset', 'ticdata2000.csv')\n",
    "X_test_path = os.path.join(os.getcwd(), 'project', 'dataset', 'ticeval2000.txt')\n",
    "y_test_path = os.path.join(os.getcwd(), 'project', 'dataset', 'tictgts2000.txt')\n",
    "landsat_train = pd.read_csv(train_path, delimiter = ',',header=0)\n",
    "X_test = pd.read_csv(X_test_path, delimiter = ' ',header=None)\n",
    "y_test = pd.read_csv(y_test_path, delimiter = ' ',header=None)"
   ]
  },
  {
   "cell_type": "code",
   "execution_count": 160,
   "metadata": {},
   "outputs": [
    {
     "name": "stdout",
     "output_type": "stream",
     "text": [
      "(5822, 86)\n"
     ]
    }
   ],
   "source": [
    "#未处理原始数据\n",
    "# or_train_path = os.path.join(os.getcwd(), 'project','dataset', 'ticdata2000_orig.csv')\n",
    "# val_path = os.path.join(os.getcwd(), 'project', 'dataset', 'ticeval2000.txt')\n",
    "# test_path = os.path.join(os.getcwd(), 'project', 'dataset', 'tictgts2000.txt')\n",
    "# landsat_train_original = pd.read_csv(or_train_path, delimiter = ',',header=0)\n",
    "# print(landsat_train_original.shape)\n",
    "# X_test = pd.read_csv(val_path, delimiter = ' ',header=None)\n",
    "# y_test = pd.read_csv(test_path, delimiter = ' ',header=None)"
   ]
  },
  {
   "cell_type": "code",
   "execution_count": 3,
   "metadata": {},
   "outputs": [
    {
     "name": "stdout",
     "output_type": "stream",
     "text": [
      "There are 5822 entries and 52 columns in the landsat_train DataFrame\n",
      "There is no missing data.\n"
     ]
    }
   ],
   "source": [
    "sample_num = landsat_train.shape[0]\n",
    "feature_num = landsat_train.shape[1]-1\n",
    "print(\"There are {} entries and {} columns in the landsat_train DataFrame\"\\\n",
    "      .format(sample_num, feature_num))\n",
    "if(landsat_train[landsat_train.isnull().values==True].empty):\n",
    "    print('There is no missing data.')"
   ]
  },
  {
   "cell_type": "code",
   "execution_count": 19,
   "metadata": {
    "scrolled": true
   },
   "outputs": [
    {
     "name": "stdout",
     "output_type": "stream",
     "text": [
      "Skewness:\n",
      "[-4.34958330e-01  7.41752040e+00  1.83426611e-01  4.71853977e-01\n",
      " -3.31443838e-01  2.23751160e+00  7.45112873e-02  9.02081380e-01\n",
      " -1.31279444e-01 -7.18942993e-01  1.31628589e+00  6.93173037e-01\n",
      "  9.70078786e-01  1.79757478e-01  1.77080171e-01  1.36290138e+00\n",
      "  1.88413147e-01 -5.43109321e-02  1.17377376e+00  2.84527031e+00\n",
      "  2.82644798e+00  6.55941348e-01  6.78517842e-01  6.69907076e-01\n",
      "  1.63742598e+00  1.11242984e+00  3.85310855e-01  1.93031190e-01\n",
      "  1.41794845e+00  1.51062643e-01 -1.58195886e-01 -2.36823902e-01\n",
      "  7.74004724e-01  7.28383340e-01 -6.86865061e-01  6.77840076e-01\n",
      "  5.97292293e-01  1.80374176e-01  6.64176904e-01  1.90897235e+00\n",
      "  4.20913610e+00  8.16262510e-01  2.20453971e-01  4.82741661e-01\n",
      "  1.02736578e+01  6.99432193e+00 -1.30813495e-02  1.09949909e+01\n",
      "  5.12807221e+00  2.69199170e+01  1.17307214e+01  6.82434404e+00\n",
      "  1.92236433e+01  3.70471368e+00  4.88184632e+00  1.86267626e+01\n",
      "  1.30380641e+01  1.59974645e+01  3.92889658e-01  6.06282320e+01\n",
      "  1.59152919e+01  6.05238344e+00  1.66504420e+01  8.82651324e+00\n",
      "  4.21564121e-01  1.43338247e+01  6.74816360e+00  9.77115690e-01\n",
      "  1.67307930e+01  1.09484243e+01  3.38529536e+01  1.22204497e+01\n",
      "  9.45165509e+00  2.94510256e+01  3.73915787e+00  6.70513793e+00\n",
      "  1.35945506e+01  1.22563084e+01  1.87146797e+01  7.50267701e-01\n",
      "  4.40189412e+01  1.46229986e+01  7.53869178e+00  1.18051147e+01\n",
      "  8.49160361e+00]\n",
      "Kurtosis:\n",
      "[-1.35210973e+00  1.00020762e+02  1.19646923e-02  6.20278204e-01\n",
      " -1.34489581e+00  8.62079136e+00  4.55395502e-01  7.89423140e-01\n",
      " -3.10214688e-02  6.82528501e-01  2.76102272e+00  7.12876317e-01\n",
      "  8.18757600e-01  3.96694025e-01 -2.12611098e-01  1.99330972e+00\n",
      "  2.14290978e-01 -6.05414893e-01  1.42422274e+00  1.10903430e+01\n",
      "  1.03870037e+01  7.99699870e-01  3.18395468e-01  5.70980170e-01\n",
      "  3.40970225e+00  3.02792118e+00 -1.86572217e-01  9.30404318e-02\n",
      "  1.98547320e+00 -1.30478857e+00 -1.30453065e+00  6.20389963e-01\n",
      "  3.09727163e-01  8.63845305e-01  2.03276853e-01  1.78155813e-01\n",
      " -1.67009831e-01  1.72093115e-01  7.10230961e-01  4.75855543e+00\n",
      "  2.88720018e+01  1.44164820e+00 -8.75972497e-01 -1.70693682e+00\n",
      "  1.16635622e+02  4.79286205e+01 -1.96108412e+00  1.19731743e+02\n",
      "  2.54687894e+01  7.54582377e+02  1.59590988e+02  4.78397167e+01\n",
      "  3.98502386e+02  1.26260115e+01  2.42541767e+01  4.04262151e+02\n",
      "  1.74739958e+02  2.55521156e+02 -1.22551548e+00  3.98892830e+03\n",
      "  2.69491344e+02  3.46313453e+01  3.30322385e+02  7.82142053e+01\n",
      " -1.75309750e+00  3.65358957e+02  4.35377119e+01  3.61442249e+00\n",
      "  3.54431112e+02  2.68176838e+02  1.30516573e+03  1.87744907e+02\n",
      "  1.11676708e+02  1.12229449e+03  1.36762540e+01  6.57767114e+01\n",
      "  1.82811805e+02  1.48217096e+02  3.89800816e+02  3.97313664e+00\n",
      "  1.93566718e+03  2.36430645e+02  6.31629130e+01  1.46766498e+02\n",
      "  7.32657147e+01]\n"
     ]
    }
   ],
   "source": [
    "from scipy.stats import skew, kurtosis\n",
    "print('Skewness:\\n{}'.format(skew(landsat_train)[:-1])) # Get rid of label column \n",
    "print('Kurtosis:\\n{}'.format(kurtosis(landsat_train)[:-1])) # Get rid of label column"
   ]
  },
  {
   "cell_type": "markdown",
   "metadata": {},
   "source": [
    "Feature Distribution"
   ]
  },
  {
   "cell_type": "code",
   "execution_count": 4,
   "metadata": {},
   "outputs": [
    {
     "name": "stdout",
     "output_type": "stream",
     "text": [
      "There are 5474 zeros in home policies feature, account for 94.02% of samples\n"
     ]
    }
   ],
   "source": [
    "feature86_zero = sum(landsat_train[\"CARAVAN\"]==0)\n",
    "print('There are {} zeros in home policies feature, account for {:.2f}% of samples'.format(feature86_zero, 100*feature86_zero/5822))"
   ]
  },
  {
   "cell_type": "code",
   "execution_count": 5,
   "metadata": {},
   "outputs": [
    {
     "data": {
      "text/plain": [
       "33"
      ]
     },
     "execution_count": 5,
     "metadata": {},
     "output_type": "execute_result"
    }
   ],
   "source": [
    "#landsat_train[\"MOSTYPE\"]\n",
    "landsat_train[\"MOSTYPE\"][5821]"
   ]
  },
  {
   "cell_type": "code",
   "execution_count": 6,
   "metadata": {},
   "outputs": [],
   "source": [
    "def transform(feature, class1, class2):\n",
    "    new = []\n",
    "    for ii in range(sample_num):\n",
    "        if(new_data[feature][ii] in class1.values):\n",
    "            new.append(0)\n",
    "        elif(new_data[feature][ii] in class2.values):\n",
    "            new.append(1)\n",
    "        else:\n",
    "            print('{} Error! {} is not in the list!'.format(ii,new_data[\"MOSTYPE\"][ii]))\n",
    "    return new\n",
    "high_risk = Series([8, 9, 12, 13, 23, 25, 36, 2, 3, 4, 5, 15, 27])\n",
    "low_risk = Series([1,6,7,10,11,14,16,17,18,19,20,21,22,24,26,28,29,30,31,32,33,34,35,37,38,39,40,41])\n",
    "Liberals = Series([1, 2, 5, 6])\n",
    "Conservatives = Series([3, 4, 7, 8, 9, 10])\n",
    "\n",
    "new_data = landsat_train.copy()\n",
    "new_data[\"MOSTYPE\"] =  Series(transform(\"MOSTYPE\", high_risk, low_risk))\n",
    "new_data[\"MOSHOOFD\"] = Series(transform(\"MOSHOOFD\", Liberals, Conservatives))\n",
    "X_train_full = new_data.iloc[:,:-1].copy()\n",
    "y_train_full = new_data.iloc[:,-1].copy()\n",
    "\n",
    "X_train, X_val, y_train, y_val = train_test_split(X_train_full, y_train_full, \n",
    "                                                  test_size=0.33, random_state=random_state)\n"
   ]
  },
  {
   "cell_type": "code",
   "execution_count": 10,
   "metadata": {},
   "outputs": [
    {
     "name": "stdout",
     "output_type": "stream",
     "text": [
      "(5822, 52)\n"
     ]
    }
   ],
   "source": [
    "# X_train_full = landsat_train_original.iloc[:,:-1].copy()\n",
    "# y_train_full = landsat_train_original.iloc[:,-1].copy()\n",
    "# print(X_train_full.shape)\n",
    "# X_train, X_val, y_train, y_val = train_test_split(X_train_full, y_train_full, \n",
    "#                                                    test_size=0.33, random_state=random_state)"
   ]
  },
  {
   "cell_type": "code",
   "execution_count": 7,
   "metadata": {},
   "outputs": [
    {
     "name": "stdout",
     "output_type": "stream",
     "text": [
      "(3900, 30)\n"
     ]
    }
   ],
   "source": [
    "#需要标准化部分\n",
    "norm_train = X_train.iloc[:, 30:52].copy()\n",
    "norm_val = X_val.iloc[:, 30:52].copy()\n",
    "print(X_train.iloc[:, 0:30].shape)"
   ]
  },
  {
   "cell_type": "code",
   "execution_count": 8,
   "metadata": {},
   "outputs": [
    {
     "data": {
      "text/plain": [
       "(3900, 22)"
      ]
     },
     "execution_count": 8,
     "metadata": {},
     "output_type": "execute_result"
    }
   ],
   "source": [
    "norm_train.shape"
   ]
  },
  {
   "cell_type": "code",
   "execution_count": 9,
   "metadata": {},
   "outputs": [
    {
     "data": {
      "text/plain": [
       "array([[ 1.        ,  2.        ,  3.        , ..., -0.0568255 ,\n",
       "        -0.10729866,  0.74361882],\n",
       "       [ 1.        ,  1.        ,  3.        , ..., -0.0568255 ,\n",
       "        -0.10729866, -0.23628998],\n",
       "       [ 1.        ,  1.        ,  4.        , ..., -0.0568255 ,\n",
       "        -0.10729866,  2.91947933],\n",
       "       ...,\n",
       "       [ 0.        ,  1.        ,  3.        , ..., -0.0568255 ,\n",
       "        -0.10729866, -0.9410013 ],\n",
       "       [ 0.        ,  1.        ,  3.        , ..., -0.0568255 ,\n",
       "        -0.10729866, -0.73781811],\n",
       "       [ 1.        ,  1.        ,  3.        , ..., -0.0568255 ,\n",
       "        -0.10729866, -0.51063016]])"
      ]
     },
     "execution_count": 9,
     "metadata": {},
     "output_type": "execute_result"
    }
   ],
   "source": [
    "#normalize part data\n",
    "from sklearn.preprocessing import StandardScaler\n",
    "normal_train = norm_train.values\n",
    "normal_val = norm_val.values\n",
    "sc = StandardScaler().fit(normal_train)\n",
    "norm_train_sc = sc.transform(normal_train)\n",
    "norm_val_sc = sc.transform(normal_val)\n",
    "X_train_sc = np.zeros((X_train.shape[0],X_train.shape[1]))\n",
    "X_val_sc = np.zeros((X_val.shape[0],X_val.shape[1]))\n",
    "X_train_sc[:,:30]= X_train.iloc[:,:30]\n",
    "X_train_sc[:,30:52] = norm_train_sc\n",
    "X_val_sc[:,:30]= X_val.iloc[:,:30]\n",
    "X_val_sc[:,30:52] = norm_val_sc\n",
    "X_train_sc\n",
    "#print(sc.mean_)\n",
    "#print(X_train_sc,'\\n', y_train,'\\n', X_val_sc,'\\n', y_val)"
   ]
  },
  {
   "cell_type": "code",
   "execution_count": 23,
   "metadata": {},
   "outputs": [],
   "source": [
    "#centering all data\n",
    "from sklearn.preprocessing import MinMaxScaler\n",
    "min_max_scaler = MinMaxScaler()\n",
    "X_train_minmax = min_max_scaler.fit_transform(X_train)\n",
    "X_val_minmax =min_max_scaler.fit_transform(X_val)\n",
    "np.savetxt('all.csv',X_train_minmax,delimiter=',')"
   ]
  },
  {
   "cell_type": "code",
   "execution_count": 31,
   "metadata": {},
   "outputs": [
    {
     "name": "stdout",
     "output_type": "stream",
     "text": [
      "[[1. 2. 3. ... 1. 4. 3.]\n",
      " [1. 1. 3. ... 2. 4. 3.]\n",
      " [1. 1. 4. ... 1. 7. 5.]\n",
      " ...\n",
      " [0. 1. 3. ... 4. 3. 4.]\n",
      " [0. 1. 3. ... 3. 3. 4.]\n",
      " [1. 1. 3. ... 4. 4. 3.]]\n",
      "[[1. 2. 3. ... 1. 4. 3.]\n",
      " [1. 1. 3. ... 2. 4. 3.]\n",
      " [1. 1. 4. ... 1. 7. 5.]\n",
      " ...\n",
      " [0. 1. 3. ... 4. 3. 4.]\n",
      " [0. 1. 3. ... 3. 3. 4.]\n",
      " [1. 1. 3. ... 4. 4. 3.]]\n"
     ]
    }
   ],
   "source": [
    "#centering part data\n",
    "from sklearn.preprocessing import MinMaxScaler\n",
    "min_max_scaler = MinMaxScaler()\n",
    "X_train_minmax = min_max_scaler.fit_transform(normal_train)\n",
    "X_val_minmax =min_max_scaler.fit_transform(normal_val)\n",
    "X_train_m = np.zeros((X_train.shape[0],X_train.shape[1]))\n",
    "X_val_m = np.zeros((X_val.shape[0],X_val.shape[1]))\n",
    "X_train_m[:,:30]= X_train.iloc[:,:30]\n",
    "X_train_m[:,30:52] = X_train_minmax\n",
    "print(X_train_m[:,:30])\n",
    "X_val_m[:,:30]= X_val.iloc[:,:30]\n",
    "print(X_train_m[:,:30])\n",
    "\n",
    "X_val_m[:,30:52] = X_val_minmax\n",
    "np.savetxt('part.csv',X_train_m,delimiter=',')"
   ]
  },
  {
   "cell_type": "code",
   "execution_count": 45,
   "metadata": {},
   "outputs": [],
   "source": [
    "X_train_final = X_train_sc\n",
    "X_val_final = X_val_sc"
   ]
  },
  {
   "cell_type": "code",
   "execution_count": 12,
   "metadata": {},
   "outputs": [],
   "source": [
    "np.savetxt('train.csv',X_train_final,delimiter=',')"
   ]
  },
  {
   "cell_type": "code",
   "execution_count": 44,
   "metadata": {},
   "outputs": [
    {
     "data": {
      "text/plain": [
       "61.741873164540365"
      ]
     },
     "execution_count": 44,
     "metadata": {},
     "output_type": "execute_result"
    }
   ],
   "source": [
    "np.max(X_train_final)"
   ]
  },
  {
   "cell_type": "code",
   "execution_count": 46,
   "metadata": {},
   "outputs": [],
   "source": [
    "from sklearn.naive_bayes import GaussianNB\n",
    "gnb = GaussianNB().fit(X_train_final,y_train)"
   ]
  },
  {
   "cell_type": "code",
   "execution_count": 47,
   "metadata": {},
   "outputs": [
    {
     "name": "stdout",
     "output_type": "stream",
     "text": [
      "GNB classification accuracy on validation set (by using the accuracy_score() function): 0.107\n",
      "GNB classification accuracy on validation set (by using the model's score() method): 0.107\n"
     ]
    }
   ],
   "source": [
    "from sklearn.metrics import accuracy_score\n",
    "# By using the predict() method and accuracy_score metric\n",
    "gnb_prediction = gnb.predict(X_val_final)\n",
    "gnb_accuracy = accuracy_score(y_val, gnb_prediction) # The accuracy_score() function takes as inputs\n",
    "                                                 # the true labels and the predicted ones\n",
    "\n",
    "# By using the score() method\n",
    "gnb_accuracy_alt = gnb.score(X_val_final, y_val) # The score() method takes as inputs \n",
    "                                              # the test input features and the associated (true) labels\n",
    "\n",
    "# Print results\n",
    "print(\"GNB classification accuracy on validation set (by using the accuracy_score() function): {:.3f}\"\n",
    "      .format(gnb_accuracy))\n",
    "print(\"GNB classification accuracy on validation set (by using the model's score() method): {:.3f}\"\n",
    "      .format(gnb_accuracy_alt))"
   ]
  },
  {
   "cell_type": "code",
   "execution_count": 48,
   "metadata": {},
   "outputs": [
    {
     "name": "stdout",
     "output_type": "stream",
     "text": [
      "Baseline classification accuracy on validation set (most frequent class): 0.939\n",
      "Baseline classification accuracy on validation set (random prediction): 0.517\n"
     ]
    }
   ],
   "source": [
    "from sklearn.dummy import DummyClassifier\n",
    "# Your code goes here\n",
    "\n",
    "# most_frequent strategy\n",
    "dcl_mf = DummyClassifier(strategy='most_frequent')\n",
    "dcl_mf.fit(X_train_final, y_train) # Clf user guide for alternative strategy options\n",
    "y_most_frequent = dcl_mf.predict(X_val_final)\n",
    "\n",
    "# uniformly random prediction strategy\n",
    "# Set random_state parameter to ensure reproducibility\n",
    "dcl_rnd = DummyClassifier(strategy='uniform', random_state=10).fit(X_train_final, y_train) \n",
    "y_random = dcl_rnd.predict(X_val_final)\n",
    "\n",
    "print(\"Baseline classification accuracy on validation set (most frequent class): {:.3f}\".\n",
    "      format(accuracy_score(y_val, y_most_frequent)))\n",
    "print(\"Baseline classification accuracy on validation set (random prediction): {:.3f}\".\n",
    "      format(accuracy_score(y_val, y_random)))"
   ]
  },
  {
   "cell_type": "code",
   "execution_count": 49,
   "metadata": {},
   "outputs": [
    {
     "name": "stdout",
     "output_type": "stream",
     "text": [
      "Confusion matrix\n",
      "[[  91 1714]\n",
      " [   3  114]]\n",
      "91 1714 3 114\n"
     ]
    },
    {
     "data": {
      "image/png": "[encoded data removed]",
      "text/plain": [
       "<Figure size 648x360 with 4 Axes>"
      ]
     },
     "metadata": {
      "needs_background": "light"
     },
     "output_type": "display_data"
    }
   ],
   "source": [
    "from sklearn.metrics import confusion_matrix\n",
    "# Your code goes here\n",
    "cm = confusion_matrix(y_val, gnb_prediction)\n",
    "print('Confusion matrix\\n{}'.format(cm))\n",
    "def plot_confusion_matrix(cm, normalize=False, classes=None, title='Confusion matrix'):\n",
    "    \"\"\"Plots a confusion matrix.\n",
    "    \n",
    "    If normalize is set to True, the rows of the confusion matrix are normalized so that they sum up to 1.\n",
    "    \n",
    "    \"\"\"\n",
    "    if normalize is True:\n",
    "        cm = cm/cm.sum(axis=1)[:, np.newaxis]\n",
    "        vmin, vmax = 0., 1.\n",
    "        fmt = '.2f'\n",
    "    else:\n",
    "        vmin, vmax = None, None\n",
    "        fmt = 'd'\n",
    "    if classes is not None:\n",
    "        sns.heatmap(cm, xticklabels=classes, yticklabels=classes, vmin=vmin, vmax=vmax, \n",
    "                    annot=True, annot_kws={\"fontsize\":9}, fmt=fmt)\n",
    "    else:\n",
    "        sns.heatmap(cm, vmin=0., vmax=1.)\n",
    "    plt.title(title)\n",
    "    plt.ylabel('True label')\n",
    "    plt.xlabel('Predicted label')\n",
    "fig = plt.figure(figsize=(9,5))\n",
    "ax1 = fig.add_subplot(121)\n",
    "plot_confusion_matrix(cm, normalize=False, \\\n",
    "                      classes=gnb.classes_) # un-normalized\n",
    "ax2 = fig.add_subplot(122)\n",
    "plot_confusion_matrix(cm, normalize=True, \\\n",
    "                      classes=gnb.classes_, title='Normalised confusion matrix') # normalized\n",
    "ax2.get_yaxis().set_visible(False)\n",
    "fig.tight_layout()\n",
    "tn, fp, fn, tp = cm.ravel()\n",
    "print(tn, fp, fn, tp)"
   ]
  },
  {
   "cell_type": "code",
   "execution_count": 50,
   "metadata": {
    "scrolled": false
   },
   "outputs": [
    {
     "name": "stdout",
     "output_type": "stream",
     "text": [
      "Log-loss scores:\n",
      "Dummy classifier 2.102516565142847\n",
      "Gaussian Naive Bayes classifier 27.98025678630097\n"
     ]
    },
    {
     "name": "stderr",
     "output_type": "stream",
     "text": [
      "C:\\Users\\Lynn\\Miniconda3\\envs\\dme\\lib\\site-packages\\sklearn\\linear_model\\_logistic.py:940: ConvergenceWarning: lbfgs failed to converge (status=1):\n",
      "STOP: TOTAL NO. of ITERATIONS REACHED LIMIT.\n",
      "\n",
      "Increase the number of iterations (max_iter) or scale the data as shown in:\n",
      "    https://scikit-learn.org/stable/modules/preprocessing.html\n",
      "Please also refer to the documentation for alternative solver options:\n",
      "    https://scikit-learn.org/stable/modules/linear_model.html#logistic-regression\n",
      "  extra_warning_msg=_LOGISTIC_SOLVER_CONVERGENCE_MSG)\n",
      "C:\\Users\\Lynn\\Miniconda3\\envs\\dme\\lib\\site-packages\\sklearn\\neural_network\\_multilayer_perceptron.py:571: ConvergenceWarning: Stochastic Optimizer: Maximum iterations (200) reached and the optimization hasn't converged yet.\n",
      "  % self.max_iter, ConvergenceWarning)\n"
     ]
    },
    {
     "name": "stdout",
     "output_type": "stream",
     "text": [
      "Classification performance on validation set:\n",
      "Logistic Regression, accuracy: 0.937, log-loss: 0.217\n",
      "Confusion matrix\n",
      "[[1800    5]\n",
      " [ 116    1]]\n",
      "Nearest Neighbors, accuracy: 0.938, log-loss: 0.946\n",
      "Confusion matrix\n",
      "[[1802    3]\n",
      " [ 116    1]]\n",
      "Linear SVM, accuracy: 0.939, log-loss: 0.229\n",
      "Confusion matrix\n",
      "[[1805    0]\n",
      " [ 117    0]]\n",
      "RBF SVM, accuracy: 0.939, log-loss: 0.229\n",
      "Confusion matrix\n",
      "[[1805    0]\n",
      " [ 117    0]]\n",
      "Decision Tree, accuracy: 0.920, log-loss: 1.191\n",
      "Confusion matrix\n",
      "[[1759   46]\n",
      " [ 107   10]]\n",
      "Random Forest, accuracy: 0.939, log-loss: 0.219\n",
      "Confusion matrix\n",
      "[[1804    1]\n",
      " [ 117    0]]\n",
      "Neural Net (Multi-layer perceptron), accuracy: 0.924, log-loss: 0.371\n",
      "Confusion matrix\n",
      "[[1767   38]\n",
      " [ 109    8]]\n",
      "Naive Bayes, accuracy: 0.107, log-loss: 27.980\n",
      "Confusion matrix\n",
      "[[  91 1714]\n",
      " [   3  114]]\n",
      "LDA, accuracy: 0.934, log-loss: 0.225\n",
      "Confusion matrix\n",
      "[[1793   12]\n",
      " [ 115    2]]\n",
      "QDA, accuracy: 0.102, log-loss: 30.930\n",
      "Confusion matrix\n",
      "[[  82 1723]\n",
      " [   2  115]]\n"
     ]
    },
    {
     "name": "stderr",
     "output_type": "stream",
     "text": [
      "C:\\Users\\Lynn\\Miniconda3\\envs\\dme\\lib\\site-packages\\sklearn\\discriminant_analysis.py:691: UserWarning: Variables are collinear\n",
      "  warnings.warn(\"Variables are collinear\")\n"
     ]
    }
   ],
   "source": [
    "from sklearn.linear_model import LogisticRegression\n",
    "from sklearn.neural_network import MLPClassifier\n",
    "from sklearn.neighbors import KNeighborsClassifier\n",
    "from sklearn.svm import SVC\n",
    "from sklearn.gaussian_process import GaussianProcessClassifier\n",
    "from sklearn.gaussian_process.kernels import RBF\n",
    "from sklearn.tree import DecisionTreeClassifier\n",
    "from sklearn.ensemble import RandomForestClassifier\n",
    "from sklearn.discriminant_analysis import LinearDiscriminantAnalysis, QuadraticDiscriminantAnalysis\n",
    "from sklearn.metrics import log_loss\n",
    "# Your code goes here\n",
    "pred_proba_dummy = dcl_mf.predict_proba(X_val_final)\n",
    "pred_proba_gnb = gnb.predict_proba(X_val_final)\n",
    "print(\"Log-loss scores:\\nDummy classifier {}\\nGaussian Naive Bayes classifier {}\".\n",
    "      format(log_loss(y_val, pred_proba_dummy), log_loss(y_val, pred_proba_gnb)))\n",
    "names = [\"Logistic Regression\", \"Nearest Neighbors\", \"Linear SVM\", \"RBF SVM\",\n",
    "         \"Decision Tree\", \"Random Forest\", \"Neural Net (Multi-layer perceptron)\",\n",
    "         \"Naive Bayes\", \"LDA\", \"QDA\"]\n",
    "classifiers = [\n",
    "    LogisticRegression(),\n",
    "    KNeighborsClassifier(n_neighbors=9),\n",
    "    SVC(kernel=\"linear\", probability=True, random_state=random_state),\n",
    "    SVC(kernel='rbf', probability=True, random_state=random_state),\n",
    "    DecisionTreeClassifier(max_depth=10),\n",
    "    RandomForestClassifier(max_depth=10, n_estimators=50,random_state=random_state),\n",
    "    MLPClassifier(random_state=random_state),\n",
    "    GaussianNB(),\n",
    "    LinearDiscriminantAnalysis(),\n",
    "     QuadraticDiscriminantAnalysis()]\n",
    "ca_score = {} # Classification accuracy\n",
    "ce_score = {} # Cross-entropy\n",
    "pre = {}\n",
    "for name, clf in zip(names, classifiers):\n",
    "    clf.fit(X_train_final, y_train)\n",
    "    pre[name] = clf.predict(X_val_final)\n",
    "    ca_score[name] = clf.score(X_val_final, y_val)\n",
    "    ce_score[name] = log_loss(y_val, clf.predict_proba(X_val_final))\n",
    "print('Classification performance on validation set:')\n",
    "for clf in names:\n",
    "    print (\"{}, accuracy: {:.3f}, log-loss: {:.3f}\".format(clf, ca_score[clf], ce_score[clf]))\n",
    "    cm = confusion_matrix(y_val, pre[clf])\n",
    "    print('Confusion matrix\\n{}'.format(cm))\n",
    "#     fig = plt.figure(figsize=(9,5))\n",
    "#     ax1 = fig.add_subplot(121)\n",
    "#     plot_confusion_matrix(cm, normalize=False, \\\n",
    "#                           classes=gnb.classes_) # un-normalized\n",
    "#     ax2 = fig.add_subplot(122)\n",
    "#     plot_confusion_matrix(cm, normalize=True, \\\n",
    "#                           classes=gnb.classes_, title='Normalised confusion matrix') # normalized\n",
    "#     ax2.get_yaxis().set_visible(False)\n",
    "#     fig.tight_layout()"
   ]
  },
  {
   "cell_type": "markdown",
   "metadata": {},
   "source": [
    "优化部分"
   ]
  },
  {
   "cell_type": "code",
   "execution_count": 125,
   "metadata": {},
   "outputs": [
    {
     "name": "stdout",
     "output_type": "stream",
     "text": [
      "Best setting of C parameter for SVC with RBF kernel: 0.001\n",
      "Best cross-validated score: 0.941\n",
      "Classification accuracy on validation set: 0.939\n"
     ]
    }
   ],
   "source": [
    "from sklearn.model_selection import GridSearchCV\n",
    "from sklearn.model_selection import KFold\n",
    "\n",
    "cv = KFold(n_splits=3, shuffle=True, random_state=random_state)\n",
    "svc = SVC(kernel='rbf')\n",
    "parameters = {'C': np.logspace(-3,3,7)}\n",
    "svc_clf = GridSearchCV(estimator=svc, cv=cv, param_grid=parameters, scoring='accuracy')\n",
    "svc_clf.fit(X_train_final, y_train)\n",
    "print(\"Best setting of C parameter for SVC with RBF kernel: {}\".format(svc_clf.best_params_[\"C\"]))\n",
    "print(\"Best cross-validated score: {:.3f}\".\n",
    "      format(svc_clf.best_score_))\n",
    "print(\"Classification accuracy on validation set: {:.3f}\".format(svc_clf.score(X_val_final,y_val)))"
   ]
  },
  {
   "cell_type": "code",
   "execution_count": 127,
   "metadata": {},
   "outputs": [
    {
     "name": "stdout",
     "output_type": "stream",
     "text": [
      "Best parameters for SVC with RBF kernel, C: 0.001, gamma: 0.0001\n",
      "Best cross-validated score: 0.9407692307692308\n",
      "Classification accuracy on validation set: 0.939\n"
     ]
    }
   ],
   "source": [
    "from sklearn.model_selection import GridSearchCV\n",
    "from sklearn.model_selection import KFold\n",
    "\n",
    "cv = KFold(n_splits=3, shuffle=True, random_state=random_state)\n",
    "svc = SVC(kernel='rbf')\n",
    "parameters = {'C': np.logspace(-3,3,7), 'gamma' : np.logspace(-4, 1, 6)}\n",
    "svc_clf = GridSearchCV(estimator=svc, cv=cv, param_grid=parameters, scoring='accuracy')\n",
    "svc_clf.fit(X_train_final, y_train)\n",
    "print(\"Best parameters for SVC with RBF kernel, C: {}, gamma: {}\".\n",
    "      format(svc_clf.best_params_[\"C\"], svc_clf.best_params_[\"gamma\"]))\n",
    "print(\"Best cross-validated score: {}\".\n",
    "      format(svc_clf.best_score_))\n",
    "print(\"Classification accuracy on validation set: {:.3f}\".format(svc_clf.score(X_val_final,y_val)))"
   ]
  },
  {
   "cell_type": "code",
   "execution_count": null,
   "metadata": {},
   "outputs": [],
   "source": [
    "import warnings\n",
    "from sklearn.exceptions import ConvergenceWarning\n",
    "warnings.filterwarnings(\"ignore\", category=ConvergenceWarning) \n",
    "\n",
    "# MLP with variable hidden layer size and alpha, score: log-loss\n",
    "cv = KFold(n_splits=3, shuffle=True, random_state=random_state)\n",
    "mlp = MLPClassifier(random_state=random_state)\n",
    "parameters = {'hidden_layer_sizes' : [(10,), (100,), (1000,)], 'alpha' : np.logspace(-8,0,9)}\n",
    "mlp_clf = GridSearchCV(mlp, param_grid=parameters, scoring='neg_log_loss')\n",
    "mlp_clf.fit(X_train_final, y_train)\n",
    "print(\"Best parameters for MLP classifier: hidden layer size: {}, alpha: {}, best cross-validated score: {:.3f}\".\n",
    "      format(mlp_clf.best_params_[\"hidden_layer_sizes\"], mlp_clf.best_params_[\"alpha\"], mlp_clf.best_score_))\n",
    "print(\"Classification accuracy on validation set: {:.3f}\".format(accuracy_score(y_val, mlp_clf.predict(X_val_final))))"
   ]
  },
  {
   "cell_type": "code",
   "execution_count": null,
   "metadata": {},
   "outputs": [],
   "source": [
    "# MLP with variable hidden layer size and alpha, score: accuracy\n",
    "cv = KFold(n_splits=3, shuffle=True, random_state=random_state)\n",
    "mlp = MLPClassifier(random_state=random_state)\n",
    "parameters = {'hidden_layer_sizes' : [(10,), (100,), (1000,)], 'alpha' : np.logspace(-8,0,9)}\n",
    "mlp_clf = GridSearchCV(mlp, param_grid=parameters, scoring='accuracy')\n",
    "mlp_clf.fit(X_train_final, y_train)\n",
    "print(\"Best parameters for MLP classifier: hidden layer size: {}, alpha: {}, best cross-validated score: {:.3f}\".\n",
    "      format(mlp_clf.best_params_[\"hidden_layer_sizes\"], mlp_clf.best_params_[\"alpha\"], mlp_clf.best_score_))\n",
    "print(\"Classification accuracy on validation set: {:.3f}\".format(accuracy_score(y_val, mlp_clf.predict(X_val_sc))))"
   ]
  },
  {
   "cell_type": "code",
   "execution_count": null,
   "metadata": {},
   "outputs": [],
   "source": [
    "from sklearn.model_selection import cross_val_score\n",
    "cv = KFold(n_splits=3, shuffle=True, random_state=random_state) # We want to use 3-fold CV to compute the loss in each iteration\n",
    "svc_clf = SVC(kernel='rbf') # Constructor without defining hyper-parameters just yet\n",
    "\n",
    "def objective_svc(params): # Here we define the metric we want to minimise\n",
    "    C, gamma = params\n",
    "    svc_clf.set_params(C=C, \n",
    "                      gamma=gamma) # Set the parameters of the clf\n",
    "    \n",
    "    return -np.mean(cross_val_score(svc_clf, X_train_final, y_train, cv=cv, n_jobs=-1,\n",
    "                                    scoring=\"accuracy\")) # We want to maximise average accuracy, i.e. minimise minus average accuracy\n",
    "\n",
    "# Search space for the two parameters\n",
    "space  = [(10**-3, 10**3, \"uniform\"), # C\n",
    "          (10**-4, 10**1, \"uniform\")] # gamma\n",
    "\n",
    "# Initial values (optional)\n",
    "x0 = [1, 10**-2]"
   ]
  },
  {
   "cell_type": "code",
   "execution_count": null,
   "metadata": {},
   "outputs": [],
   "source": [
    "from skopt import gp_minimize\n",
    "res_gp = gp_minimize(func=objective_svc, dimensions=space, x0=x0, \n",
    "                     n_calls=25, random_state=random_state, n_random_starts=5, kappa=1.9)\n",
    "print(\"Best score with Bayesian optimisation: {:.3f}\".format(-res_gp.fun))\n",
    "print(\"Best parameters with Bayesian optimisation:\\nC: {}\\ngamma: {}\"\n",
    "      .format(res_gp.x[0],res_gp.x[1]))"
   ]
  },
  {
   "cell_type": "code",
   "execution_count": null,
   "metadata": {},
   "outputs": [],
   "source": [
    "from skopt.plots import plot_convergence\n",
    "plt.figure(figsize=(5,2))\n",
    "plot_convergence(res_gp)\n",
    "plt.grid()\n",
    "plt.show()"
   ]
  },
  {
   "cell_type": "code",
   "execution_count": null,
   "metadata": {},
   "outputs": [],
   "source": [
    "plt.figure(figsize=(5,2))\n",
    "plt.plot(res_gp.func_vals)\n",
    "plt.scatter(range(len(res_gp.func_vals)), res_gp.func_vals)\n",
    "plt.ylabel(r'$f(x)$')\n",
    "plt.xlabel('Number of calls $n$')\n",
    "plt.xlim([0, len(res_gp.func_vals)])\n",
    "plt.show()"
   ]
  },
  {
   "cell_type": "code",
   "execution_count": null,
   "metadata": {},
   "outputs": [],
   "source": [
    "svc_opt = SVC(kernel='rbf',\n",
    "             C=res_gp.x[0],\n",
    "             gamma=res_gp.x[1]).fit(X_train_sc,y_train)\n",
    "print(\"Classification accuracy on validation set: {:.3f}\".format(accuracy_score(y_val, svc_opt.predict(X_val_sc))))\n",
    "print(\"Classification accuracy on test set: {:.3f}\".format(accuracy_score(y_test, svc_opt.predict(X_test_sc))))"
   ]
  },
  {
   "cell_type": "code",
   "execution_count": null,
   "metadata": {},
   "outputs": [],
   "source": []
  },
  {
   "cell_type": "markdown",
   "metadata": {},
   "source": [
    "Not in use"
   ]
  },
  {
   "cell_type": "code",
   "execution_count": 246,
   "metadata": {},
   "outputs": [],
   "source": [
    "def get_key (dict, value):\n",
    "    return [k for k, v in dict.items() if v == value]"
   ]
  },
  {
   "cell_type": "code",
   "execution_count": 92,
   "metadata": {},
   "outputs": [],
   "source": [
    "def newfeature(features):\n",
    "    MG_prob = []\n",
    "    MG_value = []\n",
    "    for sample in range(sample_num):\n",
    "        MG_dic = defaultdict(dict)\n",
    "        for feature in features:\n",
    "            MG_dic[feature] = landsat_train[feature][sample]\n",
    "        pro = max(MG_dic.values())\n",
    "        if(len(get_key(MG_dic, pro))==1):\n",
    "            MG_NEW = get_key(MG_dic, pro)[0]\n",
    "        elif(len(get_key(MG_dic, pro))==2):\n",
    "            n = random.random()\n",
    "            MG_NEW = get_key(MG_dic, pro)[0]\n",
    "            if(n>=0.5):\n",
    "                MG_NEW = get_key(MG_dic, pro)[1]\n",
    "        elif(len(get_key(MG_dic, pro))==3):\n",
    "            n = random.uniform(0,3)\n",
    "            MG_NEW = get_key(MG_dic, pro)[0]\n",
    "            if(n>=1):\n",
    "                MG_NEW = get_key(MG_dic, pro)[1]\n",
    "            elif(n>=2):\n",
    "                MG_NEW = get_key(MG_dic, pro)[2]\n",
    "        elif(len(get_key(MG_dic, pro))==4):\n",
    "            n = random.uniform(0,4)\n",
    "            MG_NEW = get_key(MG_dic, pro)[0]\n",
    "            if(n>=1):\n",
    "                MG_NEW = get_key(MG_dic, pro)[1]\n",
    "            elif(n>=2):\n",
    "                MG_NEW = get_key(MG_dic, pro)[2]\n",
    "            elif(n>=3):\n",
    "                MG_NEW = get_key(MG_dic, pro)[3]\n",
    "        elif(len(get_key(MG_dic, pro))==5):\n",
    "            n = random.uniform(0,5)\n",
    "            MG_NEW = get_key(MG_dic, pro)[0]\n",
    "            if(n>=1):\n",
    "                MG_NEW = get_key(MG_dic, pro)[1]\n",
    "            elif(n>=2):\n",
    "                MG_NEW = get_key(MG_dic, pro)[2]\n",
    "            elif(n>=3):\n",
    "                MG_NEW = get_key(MG_dic, pro)[3]\n",
    "            elif(n>=4):\n",
    "                MG_NEW = get_key(MG_dic, pro)[4]\n",
    "        for feature in range(len(features)):\n",
    "            if (MG_NEW == features[feature]):\n",
    "                MG_value.append(feature)\n",
    "        MG_prob.append(pro)\n",
    "    return MG_NEW,MG_value\n",
    "#newfeature([\"MBERHOOG\",\"MBERZELF\",\"MBERBOER\",\"MBERMIDD\",\"MBERARBG\",\"MBERARBO\"])"
   ]
  },
  {
   "cell_type": "code",
   "execution_count": 88,
   "metadata": {},
   "outputs": [
    {
     "data": {
      "text/html": [
       "<div>\n",
       "<style scoped>\n",
       "    .dataframe tbody tr th:only-of-type {\n",
       "        vertical-align: middle;\n",
       "    }\n",
       "\n",
       "    .dataframe tbody tr th {\n",
       "        vertical-align: top;\n",
       "    }\n",
       "\n",
       "    .dataframe thead th {\n",
       "        text-align: right;\n",
       "    }\n",
       "</style>\n",
       "<table border=\"1\" class=\"dataframe\">\n",
       "  <thead>\n",
       "    <tr style=\"text-align: right;\">\n",
       "      <th></th>\n",
       "      <th>L2_Labels</th>\n",
       "    </tr>\n",
       "  </thead>\n",
       "  <tbody>\n",
       "    <tr>\n",
       "      <th>1</th>\n",
       "      <td>Successful hedonists</td>\n",
       "    </tr>\n",
       "    <tr>\n",
       "      <th>2</th>\n",
       "      <td>Driven Growers</td>\n",
       "    </tr>\n",
       "    <tr>\n",
       "      <th>3</th>\n",
       "      <td>Average Family</td>\n",
       "    </tr>\n",
       "    <tr>\n",
       "      <th>4</th>\n",
       "      <td>Career Loners</td>\n",
       "    </tr>\n",
       "    <tr>\n",
       "      <th>5</th>\n",
       "      <td>Living well</td>\n",
       "    </tr>\n",
       "    <tr>\n",
       "      <th>6</th>\n",
       "      <td>Cruising Seniors</td>\n",
       "    </tr>\n",
       "    <tr>\n",
       "      <th>7</th>\n",
       "      <td>Retired and Religeous</td>\n",
       "    </tr>\n",
       "    <tr>\n",
       "      <th>8</th>\n",
       "      <td>Family with grown ups</td>\n",
       "    </tr>\n",
       "    <tr>\n",
       "      <th>9</th>\n",
       "      <td>Conservative families</td>\n",
       "    </tr>\n",
       "    <tr>\n",
       "      <th>10</th>\n",
       "      <td>Farmers</td>\n",
       "    </tr>\n",
       "  </tbody>\n",
       "</table>\n",
       "</div>"
      ],
      "text/plain": [
       "                L2_Labels\n",
       "1    Successful hedonists\n",
       "2          Driven Growers\n",
       "3          Average Family\n",
       "4           Career Loners\n",
       "5             Living well\n",
       "6        Cruising Seniors\n",
       "7   Retired and Religeous\n",
       "8   Family with grown ups\n",
       "9   Conservative families\n",
       "10                Farmers"
      ]
     },
     "execution_count": 88,
     "metadata": {},
     "output_type": "execute_result"
    }
   ],
   "source": [
    "labels_path = os.path.join(os.getcwd(), 'project', 'dataset', 'L0_Labels.csv')\n",
    "L0_Labels = pd.read_csv(labels_path, delimiter = ',', index_col=0)\n",
    "labels_path = os.path.join(os.getcwd(), 'project', 'dataset', 'L1_Labels.csv')\n",
    "L1_Labels = pd.read_csv(labels_path, delimiter = ',', index_col=0)\n",
    "labels_path = os.path.join(os.getcwd(), 'project', 'dataset', 'L2_Labels.csv')\n",
    "L2_Labels = pd.read_csv(labels_path, delimiter = ',', index_col=0)\n",
    "labels_path = os.path.join(os.getcwd(), 'project', 'dataset', 'L3_Labels.csv')\n",
    "L3_Labels = pd.read_csv(labels_path, delimiter = ',', index_col=0)\n",
    "labels_path = os.path.join(os.getcwd(), 'project', 'dataset', 'L4_Labels.csv')\n",
    "L4_Labels = pd.read_csv(labels_path, delimiter = ',', index_col=0)\n",
    "L2_Labels"
   ]
  },
  {
   "cell_type": "code",
   "execution_count": 48,
   "metadata": {
    "scrolled": true
   },
   "outputs": [],
   "source": [
    "L0_labels_dict = L0_Labels.to_dict()[\"L0_Labels\"]\n",
    "L1_labels_dict = L1_Labels.to_dict()[\"L1_Labels\"]\n",
    "L2_labels_dict = L2_Labels.to_dict()[\"L2_Labels\"]\n",
    "L3_labels_dict = L3_Labels.to_dict()[\"L3_Labels\"]\n",
    "L4_labels_dict = L4_Labels.to_dict()[\"L4_Labels\"]"
   ]
  },
  {
   "cell_type": "code",
   "execution_count": 92,
   "metadata": {},
   "outputs": [
    {
     "data": {
      "text/plain": [
       "Counter({2: 1452, 3: 3000, 1: 74, 4: 1073, 5: 193, 6: 30})"
      ]
     },
     "execution_count": 92,
     "metadata": {},
     "output_type": "execute_result"
    }
   ],
   "source": [
    "Counter(landsat_train[\"MGEMLEEF\"])"
   ]
  },
  {
   "cell_type": "code",
   "execution_count": 199,
   "metadata": {},
   "outputs": [
    {
     "data": {
      "image/png": "[encoded data removed]",
      "text/plain": [
       "<Figure size 432x288 with 1 Axes>"
      ]
     },
     "metadata": {
      "needs_background": "light"
     },
     "output_type": "display_data"
    }
   ],
   "source": [
    "dic = defaultdict(dict)\n",
    "age = []\n",
    "policy = []\n",
    "buyer = []\n",
    "\n",
    "for ii in range(sample_num):\n",
    "    if (landsat_train[\"MRELGE\"][ii] == 1):\n",
    "        buyer.append(ii)\n",
    "        if (dic.get(landsat_train[feature][ii])):\n",
    "            dic[landsat_train[feature][ii]] += 1 \n",
    "        else :\n",
    "            dic[landsat_train[feature][ii]] = 1\n",
    "\n",
    "for i in sorted (dic) : \n",
    "    age.append(i)\n",
    "    policy.append(dic[i])\n",
    "plt.xlabel(str(feature))\n",
    "plt.ylabel(\"policy\")\n",
    "plt.plot(age, policy)\n",
    "plt.savefig('./{}.png'.format(str(feature)))"
   ]
  },
  {
   "cell_type": "code",
   "execution_count": 153,
   "metadata": {},
   "outputs": [],
   "source": [
    "feature = \"APLEZIER\""
   ]
  },
  {
   "cell_type": "code",
   "execution_count": 154,
   "metadata": {},
   "outputs": [
    {
     "data": {
      "text/plain": [
       "[<matplotlib.lines.Line2D at 0x123a67600c8>]"
      ]
     },
     "execution_count": 154,
     "metadata": {},
     "output_type": "execute_result"
    },
    {
     "data": {
      "image/png": "[encoded data removed]",
      "text/plain": [
       "<Figure size 432x288 with 1 Axes>"
      ]
     },
     "metadata": {
      "needs_background": "light"
     },
     "output_type": "display_data"
    }
   ],
   "source": [
    "dic = defaultdict(dict)\n",
    "age = []\n",
    "policy = []\n",
    "buyer = []\n",
    "\n",
    "for ii in range(sample_num):\n",
    "    if (landsat_train[\"CARAVAN\"][ii] == 1):\n",
    "        buyer.append(ii)\n",
    "        if (dic.get(landsat_train[feature][ii])):\n",
    "            dic[landsat_train[feature][ii]] += 1 \n",
    "        else :\n",
    "            dic[landsat_train[feature][ii]] = 1\n",
    "\n",
    "for i in sorted (dic) : \n",
    "    age.append(i)\n",
    "    policy.append(dic[i])\n",
    "\n",
    "plt.plot(age, policy)"
   ]
  },
  {
   "cell_type": "code",
   "execution_count": 94,
   "metadata": {},
   "outputs": [
    {
     "data": {
      "text/plain": [
       "Counter({4: 1854,\n",
       "         5: 733,\n",
       "         3: 1932,\n",
       "         6: 355,\n",
       "         2: 651,\n",
       "         8: 70,\n",
       "         1: 49,\n",
       "         7: 131,\n",
       "         9: 22,\n",
       "         0: 25})"
      ]
     },
     "execution_count": 94,
     "metadata": {},
     "output_type": "execute_result"
    }
   ],
   "source": [
    "Counter(landsat_train[\"MINKGEM\"])"
   ]
  }
 ],
 "metadata": {
  "kernelspec": {
   "display_name": "Python 3",
   "language": "python",
   "name": "python3"
  },
  "language_info": {
   "codemirror_mode": {
    "name": "ipython",
    "version": 3
   },
   "file_extension": ".py",
   "mimetype": "text/x-python",
   "name": "python",
   "nbconvert_exporter": "python",
   "pygments_lexer": "ipython3",
   "version": "3.7.6"
  }
 },
 "nbformat": 4,
 "nbformat_minor": 2
}
